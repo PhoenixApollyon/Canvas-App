{
  "nbformat": 4,
  "nbformat_minor": 0,
  "metadata": {
    "colab": {
      "provenance": [],
      "authorship_tag": "ABX9TyNNAekgqgOg5AGCRpBW1hEi",
      "include_colab_link": true
    },
    "kernelspec": {
      "name": "python3",
      "display_name": "Python 3"
    },
    "language_info": {
      "name": "python"
    }
  },
  "cells": [
    {
      "cell_type": "markdown",
      "metadata": {
        "id": "view-in-github",
        "colab_type": "text"
      },
      "source": [
        "<a href=\"https://colab.research.google.com/github/PhoenixApollyon/Canvas-App/blob/main/Untitled0.ipynb\" target=\"_parent\"><img src=\"https://colab.research.google.com/assets/colab-badge.svg\" alt=\"Open In Colab\"/></a>"
      ]
    },
    {
      "cell_type": "code",
      "source": [
        "message = input(\"Type in the message you want to encrypt here: \")\n",
        "shift = input(\"Type in a number between 1 and 126: \")\n",
        "eMessage = \"\"\n",
        "\n",
        "for i in range(len(message)):\n",
        "  if(ord(message[i])-int(shift)<0):\n",
        "    eMessage += chr(ord(message[i])-int(shift)+127)\n",
        "  else:\n",
        "    eMessage += chr(ord(message[i])-int(shift))\n",
        "print(eMessage+\"+\"+shift)\n",
        "\n",
        "encrypted = input(\"Enter the encrypted message: \")\n",
        "ogMessage = \"\"\n",
        "for i in range(len(encrypted)):\n",
        "  if encrypted[i] == \"+\":\n",
        "    shifting = encrypted[i+1:]\n",
        "    tL = len(encrypted)-i\n",
        "for i in range(len(encrypted)-tL):\n",
        "  if(ord(encrypted[i])+int(shifting)>127):\n",
        "    ogMessage += chr(ord(encrypted[i])+int(shifting)-127)\n",
        "  else:\n",
        "    ogMessage += chr(ord(encrypted[i])+int(shifting))\n",
        "print(ogMessage)"
      ],
      "metadata": {
        "colab": {
          "base_uri": "https://localhost:8080/"
        },
        "id": "XfrLfPNMYeUH",
        "outputId": "53479ee1-e188-43bc-f9c9-c15bc7efb712"
      },
      "execution_count": 15,
      "outputs": [
        {
          "output_type": "stream",
          "name": "stdout",
          "text": [
            "Type in the message you want to encrypt here: popcorn\n",
            "Type in a number between 1 and 126: 105\n",
            "\u0007\u0006\u0007y\u0006\t\u0005+105\n",
            "Enter the encrypted message: \u0007\u0006\u0007y\u0006\t\u0005+105\n",
            "popcorn\n"
          ]
        }
      ]
    }
  ]
}